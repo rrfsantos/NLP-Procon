{
 "cells": [
  {
   "cell_type": "markdown",
   "metadata": {
    "colab_type": "text",
    "id": "uioOSkpBLs9O"
   },
   "source": [
    "# Trabalho BI - Tópicos Avançados\n",
    "## A base do trabalho contém todas as reclamações fundamentadas que foram audiência no ano de 2017.\n",
    "### O notebook cria as seguintes WordClouds com os 40 serviços mais reclamados, utilizando a coluna 'serviço' :\n",
    "#### - Criação da WordCloud utilizando Expressões Regulares para Pré-processamento.\n",
    "#### - Criação da WordCloud utilizando Expressões Regulares, Stopwords, Remoção de Acentuação e Tokenização para Pré-processamento."
   ]
  },
  {
   "cell_type": "code",
   "execution_count": null,
   "metadata": {
    "colab": {
     "base_uri": "https://localhost:8080/",
     "height": 51
    },
    "colab_type": "code",
    "executionInfo": {
     "elapsed": 7137,
     "status": "ok",
     "timestamp": 1595623593083,
     "user": {
      "displayName": "Leonardo Mendonza",
      "photoUrl": "https://lh3.googleusercontent.com/a-/AOh14Gj5F1JVSmHodKCvWHgDPYmDyFo_nUl5lqEXNbsW=s64",
      "userId": "09205135724810578413"
     },
     "user_tz": 180
    },
    "id": "E4ogIMp4Ls9T",
    "outputId": "c9ce529e-ab54-4cda-9822-a9574cc4d5a5",
    "tags": []
   },
   "outputs": [],
   "source": [
    "import pandas as pd\n",
    "import numpy as np\n",
    "from PIL import Image\n",
    "import matplotlib.image as mpimg\n",
    "import matplotlib.pyplot as plt\n",
    "import re\n",
    "import string\n",
    "import nltk\n",
    "from nltk.tokenize import word_tokenize\n",
    "from wordcloud import WordCloud\n",
    "import warnings\n",
    "warnings.filterwarnings('ignore')"
   ]
  },
  {
   "cell_type": "code",
   "execution_count": null,
   "metadata": {},
   "outputs": [],
   "source": [
    "# Carregamento da base\n",
    "data = pd.read_csv(r'C:\\Users\\rfsantos\\OneDrive - Mongeral Aegon\\2020\\Modulos\\BI\\NLP\\Trabalho\\Arquivos fonte finais\\base reclamacoes Procon.csv', sep = ';', encoding ='windows-1252', keep_default_na = True)"
   ]
  },
  {
   "cell_type": "code",
   "execution_count": null,
   "metadata": {
    "tags": []
   },
   "outputs": [],
   "source": [
    "# Existem valores nulos (por coluna)?\n",
    "data.isna().sum()"
   ]
  },
  {
   "cell_type": "code",
   "execution_count": null,
   "metadata": {},
   "outputs": [],
   "source": [
    "#Remoção de linhas com valores nulos\n",
    "data = data.dropna(subset=['empresa','problema']).astype(str)\n"
   ]
  },
  {
   "cell_type": "markdown",
   "metadata": {},
   "source": [
    "## WordCloud com os 40 serviços mais reclamados no Procon em 2017"
   ]
  },
  {
   "cell_type": "markdown",
   "metadata": {},
   "source": [
    "### - Criação da WordCloud utilizando Expressões Regulares para Pré-processamento."
   ]
  },
  {
   "cell_type": "code",
   "execution_count": null,
   "metadata": {
    "tags": []
   },
   "outputs": [],
   "source": [
    "# Criação de dataframe com a coluna serviço\n",
    "data_servico_1 = pd.DataFrame()\n",
    "data_servico_1 = pd.DataFrame({'servico':data.serviço.str.lower()}) # ---> Formatação de todas as palavras em minúsculas"
   ]
  },
  {
   "cell_type": "code",
   "execution_count": null,
   "metadata": {},
   "outputs": [],
   "source": [
    "# Utilização de expressões regulares para limpeza do texto\n",
    "dicionario = {'/':' ',',':'','\\(':'','\\)':'',\"-\":'','\\.':'',r\"^\\t\":'','–':'','\\ etc.':'','\\.com':'',' ':'_'} \n",
    "data_servico_1 = data_servico_1.replace({'servico': dicionario},regex=True)"
   ]
  },
  {
   "cell_type": "code",
   "execution_count": null,
   "metadata": {},
   "outputs": [],
   "source": [
    "# Criação de uma string única com todas as ocorrências dos nomes das empresas\n",
    "string_servico = \" \".join([text for text in data_servico_1['servico']])"
   ]
  },
  {
   "cell_type": "markdown",
   "metadata": {},
   "source": [
    "### - Criação da WordCloud utilizando Expressões Regulares, Stopwords, Tokenização e Ngrams para Pré-processamento"
   ]
  },
  {
   "cell_type": "code",
   "execution_count": null,
   "metadata": {},
   "outputs": [],
   "source": [
    "# Criação de dataframe com a coluna empresa\n",
    "data_servico_2 = pd.DataFrame({'servico':data.serviço.str.lower()}) # ---> Formatação de todas as palavras em minúsculas"
   ]
  },
  {
   "cell_type": "code",
   "execution_count": null,
   "metadata": {},
   "outputs": [],
   "source": [
    "# Utilização de expressões regulares para limpeza do texto\n",
    "dicionario = {'/':' ',',':'','\\(':'','\\)':'',\"-\":'','\\.':'',r\"^\\t\":'','–':''}     # ---> Remoção de ' ':'_'\n",
    "data_servico_2 = data_servico_2.replace({'servico': dicionario},regex=True)"
   ]
  },
  {
   "cell_type": "code",
   "execution_count": null,
   "metadata": {},
   "outputs": [],
   "source": [
    "# Expressões regulares - remoção de todas as palavras com números e pontuação\n",
    "alphanumeric = lambda x: re.sub(r\"\"\"\\w*\\d\\w*\"\"\", ' ', x)\n",
    "punc = lambda x: re.sub('[%s]' % re.escape(string.punctuation), ' ', x)\n",
    "\n",
    "data_servico_2['servico'] = data_servico_2.servico.map(alphanumeric).map(punc)"
   ]
  },
  {
   "cell_type": "code",
   "execution_count": null,
   "metadata": {},
   "outputs": [],
   "source": [
    "# Remoção de acentos\n",
    "data_servico_2['servico'] = data_servico_2.servico.str.normalize('NFKD').str.encode('ascii', errors='ignore').str.decode('utf-8')"
   ]
  },
  {
   "cell_type": "code",
   "execution_count": null,
   "metadata": {
    "tags": []
   },
   "outputs": [],
   "source": [
    "# Tokenização da coluna serviço\n",
    "data_servico_2['servico'] = data_servico_2.servico.map(word_tokenize)"
   ]
  },
  {
   "cell_type": "code",
   "execution_count": null,
   "metadata": {
    "tags": []
   },
   "outputs": [],
   "source": [
    "# Remoção de StopWords\n",
    "stopword_list = nltk.corpus.stopwords.words('portuguese')\n",
    "new_stopwords = ['d','co','kd','texto','object','dtype','i','c','outros','etc']\n",
    "stopword_list.extend(new_stopwords)\n",
    "\n",
    "stop_lambda = lambda x: [y for y in x if y not in stopword_list]\n",
    "\n",
    "data_servico_2['servico'] = data_servico_2.servico.map(stop_lambda)"
   ]
  },
  {
   "cell_type": "code",
   "execution_count": null,
   "metadata": {
    "tags": []
   },
   "outputs": [],
   "source": [
    "# Criação de lista com as listas de tokens\n",
    "tokens_list = [] \n",
    "for row in data_servico_2.servico:\n",
    "    tokens_list.append(row)\n"
   ]
  },
  {
   "cell_type": "code",
   "execution_count": null,
   "metadata": {},
   "outputs": [],
   "source": [
    "# Concatenação dos tokens em ngrams\n",
    "ngram_list = []\n",
    "for words in tokens_list:\n",
    "    ngram_list.append(' '.join(words))"
   ]
  },
  {
   "cell_type": "code",
   "execution_count": null,
   "metadata": {},
   "outputs": [],
   "source": [
    "# Criação de dicinário com a frequência dos ngrams\n",
    "words = ngram_list\n",
    "words_freq = {} \n",
    "for items in words: \n",
    "    words_freq[items] = words.count(items)"
   ]
  },
  {
   "cell_type": "markdown",
   "metadata": {},
   "source": [
    "## WordClouds"
   ]
  },
  {
   "cell_type": "code",
   "execution_count": null,
   "metadata": {},
   "outputs": [],
   "source": [
    "# Definição de imagem para formato da Wordcloud todas as empresas \n",
    "brazil_mask = np.array(Image.open(r'C:\\Users\\rfsantos\\OneDrive - Mongeral Aegon\\2020\\Modulos\\BI\\NLP\\Trabalho\\Arquivos fonte finais\\brazil-map.png'))\n",
    "img=mpimg.imread(r'C:\\Users\\rfsantos\\OneDrive - Mongeral Aegon\\2020\\Modulos\\BI\\NLP\\Trabalho\\Arquivos fonte finais\\brazil-map.png')\n",
    "imgplot = plt.imshow(img)\n",
    "plt.axis(\"off\");"
   ]
  },
  {
   "cell_type": "code",
   "execution_count": null,
   "metadata": {},
   "outputs": [],
   "source": [
    "# Criação das WordClouds \n",
    "fig,(ax1,ax2) = plt.subplots(1,2, figsize=(20,10), sharex=True, sharey=True)\n",
    "\n",
    "## Utilização Expressões Regulares para Pré-processamento\n",
    "cloud1 = WordCloud(background_color='black',width=1600, height=800,max_font_size=200,max_words=40, mask=brazil_mask,collocations=False,contour_width=1, contour_color='steelblue').generate(string_servico)\n",
    "fig.add_subplot(ax1)\n",
    "plt.gca().imshow(cloud1)\n",
    "plt.gca().set_title('Regex', fontsize=20)\n",
    "plt.gca().axis('off')\n",
    "\n",
    "## Utilização de Expressões Regulares, Stopwords, Remoção de Acentuação e Tokenização para Pré-processamento\n",
    "cloud2 = WordCloud(background_color='black',width=1600,height=800,max_font_size=200,max_words=40, mask=brazil_mask,contour_width=1, contour_color='steelblue').generate_from_frequencies(words_freq)\n",
    "fig.add_subplot(ax2)\n",
    "plt.gca().imshow(cloud2)\n",
    "plt.gca().set_title('Regex, Stopwords, Remoção de Acentuação e Tokenização', fontsize=20)\n",
    "plt.gca().axis('off')\n",
    "\n",
    "plt.subplots_adjust(wspace=0, hspace=0)\n",
    "plt.axis('off')\n",
    "plt.margins(x=0, y=0)\n",
    "plt.tight_layout()\n",
    "plt.savefig('serviços-total.png')\n",
    "plt.show()"
   ]
  }
 ],
 "metadata": {
  "anaconda-cloud": {},
  "colab": {
   "collapsed_sections": [],
   "name": "cookiesvf.ipynb",
   "provenance": []
  },
  "kernelspec": {
   "display_name": "Python 3",
   "language": "python",
   "name": "python3"
  },
  "language_info": {
   "codemirror_mode": {
    "name": "ipython",
    "version": 3
   },
   "file_extension": ".py",
   "mimetype": "text/x-python",
   "name": "python",
   "nbconvert_exporter": "python",
   "pygments_lexer": "ipython3",
   "version": "3.8.3-final"
  },
  "toc": {
   "colors": {
    "hover_highlight": "#DAA520",
    "navigate_num": "#000000",
    "navigate_text": "#333333",
    "running_highlight": "#FF0000",
    "selected_highlight": "#FFD700",
    "sidebar_border": "#EEEEEE",
    "wrapper_background": "#FFFFFF"
   },
   "moveMenuLeft": true,
   "nav_menu": {
    "height": "48px",
    "width": "252px"
   },
   "navigate_menu": true,
   "number_sections": true,
   "sideBar": true,
   "threshold": 4,
   "toc_cell": false,
   "toc_section_display": "block",
   "toc_window_display": false,
   "widenNotebook": false
  }
 },
 "nbformat": 4,
 "nbformat_minor": 1
}