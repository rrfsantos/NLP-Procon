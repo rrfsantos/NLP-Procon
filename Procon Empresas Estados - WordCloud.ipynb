{
 "cells": [
  {
   "cell_type": "markdown",
   "metadata": {
    "colab_type": "text",
    "id": "uioOSkpBLs9O"
   },
   "source": [
    "# Trabalho BI - Tópicos Avançados\n",
    "\n",
    "## A base do trabalho contém todas as reclamações fundamentadas que foram audiência no ano de 2017.\n",
    "\n",
    "### O notebook cria as seguintes WordClouds:\n",
    "###    1 - Proporção de reclamações por Estado, utilizando a coluna 'estado'.\n",
    "###    2 - As 20 empresas mais reclamadas por Estado, utilizando as colunas 'estado' e 'empresa'.\n",
    "####           - Criação da WordCloud utilizando Expressões Regulares para Pré-processamento.\n",
    "####           - Criação da WordCloud utilizando Expressões Regulares, Stopwords, Remoção de Acentuação e Tokenização para Pré-processamento."
   ]
  },
  {
   "cell_type": "code",
   "execution_count": null,
   "metadata": {
    "colab": {
     "base_uri": "https://localhost:8080/",
     "height": 51
    },
    "colab_type": "code",
    "executionInfo": {
     "elapsed": 7137,
     "status": "ok",
     "timestamp": 1595623593083,
     "user": {
      "displayName": "Leonardo Mendonza",
      "photoUrl": "https://lh3.googleusercontent.com/a-/AOh14Gj5F1JVSmHodKCvWHgDPYmDyFo_nUl5lqEXNbsW=s64",
      "userId": "09205135724810578413"
     },
     "user_tz": 180
    },
    "id": "E4ogIMp4Ls9T",
    "outputId": "c9ce529e-ab54-4cda-9822-a9574cc4d5a5",
    "tags": []
   },
   "outputs": [],
   "source": [
    "import pandas as pd\n",
    "import numpy as np\n",
    "from PIL import Image\n",
    "import matplotlib.image as mpimg\n",
    "import matplotlib.pyplot as plt\n",
    "import re\n",
    "import string\n",
    "import nltk\n",
    "from nltk.tokenize import word_tokenize\n",
    "import seaborn as sns\n",
    "from wordcloud import WordCloud\n",
    "import warnings\n",
    "warnings.filterwarnings('ignore')"
   ]
  },
  {
   "cell_type": "code",
   "execution_count": null,
   "metadata": {
    "colab": {
     "base_uri": "https://localhost:8080/",
     "height": 204
    },
    "colab_type": "code",
    "executionInfo": {
     "elapsed": 646,
     "status": "ok",
     "timestamp": 1595623594878,
     "user": {
      "displayName": "Leonardo Mendonza",
      "photoUrl": "https://lh3.googleusercontent.com/a-/AOh14Gj5F1JVSmHodKCvWHgDPYmDyFo_nUl5lqEXNbsW=s64",
      "userId": "09205135724810578413"
     },
     "user_tz": 180
    },
    "id": "tRc4w3vPLs9X",
    "outputId": "da4fd9db-146e-46fd-f13d-263e13af35c6"
   },
   "outputs": [],
   "source": [
    "# Carregamento da base\n",
    "data = pd.read_csv(r'C:\\Users\\rfsantos\\OneDrive - Mongeral Aegon\\2020\\Modulos\\BI\\NLP\\Trabalho\\Arquivos fonte finais\\base reclamacoes Procon.csv', sep = ';', encoding ='windows-1252', keep_default_na = True)"
   ]
  },
  {
   "cell_type": "code",
   "execution_count": null,
   "metadata": {
    "tags": []
   },
   "outputs": [],
   "source": [
    "# Existem valores nulos (por coluna)?\n",
    "data.isna().sum()"
   ]
  },
  {
   "cell_type": "code",
   "execution_count": null,
   "metadata": {},
   "outputs": [],
   "source": [
    "# Remoção de linhas com valores nulos\n",
    "data = data.dropna(subset=['empresa','problema']).astype(str)"
   ]
  },
  {
   "cell_type": "markdown",
   "metadata": {},
   "source": [
    "## 1 - WordCloud com a proporção de reclamações por estado no Procon em 2017"
   ]
  },
  {
   "cell_type": "code",
   "execution_count": null,
   "metadata": {
    "tags": []
   },
   "outputs": [],
   "source": [
    "# Criação de dataframe com a coluna estado\n",
    "data_estado = pd.DataFrame({'estado':data.estado})"
   ]
  },
  {
   "cell_type": "code",
   "execution_count": null,
   "metadata": {
    "tags": []
   },
   "outputs": [],
   "source": [
    "# Criação de uma string única com todas as ocorrências dos estados\n",
    "string_estados = \" \".join(text for text in data_estado.estado)"
   ]
  },
  {
   "cell_type": "code",
   "execution_count": null,
   "metadata": {},
   "outputs": [],
   "source": [
    "# Definição de imagem para formato da Wordcloud\n",
    "brazil_mask = np.array(Image.open(r'C:\\Users\\rfsantos\\OneDrive - Mongeral Aegon\\2020\\Modulos\\BI\\NLP\\Trabalho\\Arquivos fonte finais\\brazil-map.png'))\n",
    "img=mpimg.imread(r'C:\\Users\\rfsantos\\OneDrive - Mongeral Aegon\\2020\\Modulos\\BI\\NLP\\Trabalho\\Arquivos fonte finais\\brazil-map.png')\n",
    "imgplot = plt.imshow(img)\n",
    "plt.axis(\"off\");"
   ]
  },
  {
   "cell_type": "code",
   "execution_count": null,
   "metadata": {},
   "outputs": [],
   "source": [
    "# WordCloud\n",
    "cloud = WordCloud(background_color='black',width=1600, height=800,max_font_size=200,max_words=20, mask=brazil_mask, contour_width=1, contour_color='steelblue', collocations=False).generate(string_estados)\n",
    "\n",
    "plt.figure(figsize = (20,10))\n",
    "plt.imshow(cloud, interpolation='nearest')\n",
    "plt.title('Proporção de Reclamações por Estado', fontsize=20)\n",
    "plt.axis('off')\n",
    "plt.savefig('estados-total.png')\n",
    "plt.tight_layout(pad=0)"
   ]
  },
  {
   "cell_type": "markdown",
   "metadata": {},
   "source": [
    "## 2 - WordCloud com as 20 empresas mais reclamadas no Procon em 2017 por Estado"
   ]
  },
  {
   "cell_type": "markdown",
   "metadata": {},
   "source": [
    "### - Criação da WordCloud utilizando Expressões Regulares para Pré-processamento"
   ]
  },
  {
   "cell_type": "code",
   "execution_count": null,
   "metadata": {},
   "outputs": [],
   "source": [
    "# Criação de dataframe com as colunas empresa e estado\n",
    "data_estado_1 = pd.DataFrame({'estado':data.estado,'empresa':data.empresa.str.lower()})"
   ]
  },
  {
   "cell_type": "code",
   "execution_count": null,
   "metadata": {},
   "outputs": [],
   "source": [
    "# Utilização de expressões regulares para limpeza do texto\n",
    "dicionario_1 = {' s/a':'',' s.a':'',' ltda':'',' s/s':'',',':'',\\\n",
    "                     '\\(':'','\\)':'',\"-\":'','\\.com':'','\\.br':'',r\"^\\t\":'',' epp':'',' lta':'','@':''}\n",
    "data_estado_1 = data_estado_1.replace({'empresa': dicionario_1},regex=True)"
   ]
  },
  {
   "cell_type": "code",
   "execution_count": null,
   "metadata": {},
   "outputs": [],
   "source": [
    "# Utilização de expressões regulares para limpeza do texto\n",
    "dicionario_2 = {'_sa$':'','\\.':'','/':' ',' ':'_'}\n",
    "data_estado_1 = data_estado_1.replace({'empresa': dicionario_2},regex=True)"
   ]
  },
  {
   "cell_type": "code",
   "execution_count": null,
   "metadata": {
    "tags": []
   },
   "outputs": [],
   "source": [
    "# Criação da WordCloud\n",
    "\n",
    "labels = np.unique(data_estado_1['estado'])\n",
    "for label in labels:\n",
    "    string_estado_1 = []\n",
    "    phrases = data_estado_1[data_estado_1['estado'] == label]\n",
    "    for phrase in phrases['empresa']:\n",
    "        string_estado_1.append(phrase)      \n",
    "    texto_estado_1 = pd.Series(string_estado_1).astype(str).str.cat(sep=' ').replace(\"'\",\"\")\n",
    "\n",
    "    cloud1 = WordCloud(background_color='black',width=1600, height=800,max_font_size=200,max_words=20,collocations=False).generate(texto_estado_1)\n",
    "\n",
    "    plt.figure(figsize = (20,10))\n",
    "    plt.imshow(cloud1, interpolation='bilinear')\n",
    "    plt.title('Empresas com mais reclamações em ' + str(label), fontsize=20)\n",
    "    plt.axis('off')\n",
    "    plt.tight_layout(pad=0)\n",
    "    name = str(label)\n",
    "    plt.savefig('estado-' + str(label) + ' regex.png')"
   ]
  },
  {
   "cell_type": "markdown",
   "metadata": {},
   "source": [
    "### - Criação da WordCloud utilizando Expressões Regulares, Stopwords, Tokenização e Ngrams para Pré-processamento"
   ]
  },
  {
   "cell_type": "code",
   "execution_count": null,
   "metadata": {},
   "outputs": [],
   "source": [
    "# Criação de dataframe com as colunas estado e empresa\n",
    "data_estado_2 = pd.DataFrame({'estado':data.estado,'empresa':data.empresa.str.lower()})"
   ]
  },
  {
   "cell_type": "code",
   "execution_count": null,
   "metadata": {},
   "outputs": [],
   "source": [
    "# Utilização de expressões regulares para limpeza do texto\n",
    "dicionario_1 = {' s/a':'',' s.a':'',' s/s':'',',':'','\\(':'','\\)':'',\"-\":'','\\.com':'','\\.br':'',r\"^\\t\":'','@':''}\n",
    "\n",
    "data_estado_2 = data_estado_2.replace({'empresa': dicionario_1},regex=True)"
   ]
  },
  {
   "cell_type": "code",
   "execution_count": null,
   "metadata": {},
   "outputs": [],
   "source": [
    "# Utilização de expressões regulares para limpeza do texto\n",
    "dicionario_2 = {'\\.':'','/':' '}\n",
    "data_estado_2 = data_estado_2.replace({'empresa': dicionario_2},regex=True)"
   ]
  },
  {
   "cell_type": "code",
   "execution_count": null,
   "metadata": {},
   "outputs": [],
   "source": [
    "# Expressões regulares - remoção de todas as palavras com números, pontuação e formatação de todas as palavras em minúsculas\n",
    "alphanumeric = lambda x: re.sub(r\"\"\"\\w*\\d\\w*\"\"\", ' ', x)\n",
    "#punc = lambda x: re.sub('[%s]' % re.escape(string.punctuation), ' ', x)\n",
    "\n",
    "data_estado_2.empresa = data_estado_2.empresa.map(alphanumeric) #.map(punc)"
   ]
  },
  {
   "cell_type": "code",
   "execution_count": null,
   "metadata": {},
   "outputs": [],
   "source": [
    "# Remoção de acentos\n",
    "data_estado_2['empresa'] = data_estado_2.empresa.str.normalize('NFKD').str.encode('ascii', errors='ignore').str.decode('utf-8')"
   ]
  },
  {
   "cell_type": "code",
   "execution_count": null,
   "metadata": {
    "tags": []
   },
   "outputs": [],
   "source": [
    "# Tokenização da coluna empresa\n",
    "data_estado_2['empresa'] = data_estado_2.empresa.map(word_tokenize)"
   ]
  },
  {
   "cell_type": "code",
   "execution_count": null,
   "metadata": {
    "tags": []
   },
   "outputs": [],
   "source": [
    "# Remoção de StopWords\n",
    "stopword_list = nltk.corpus.stopwords.words('portuguese')\n",
    "new_stopwords = ['d','co','kd','texto','object','dtype','i','c','outros','etc','sa','ltda','ltd','lta','epp']\n",
    "stopword_list.extend(new_stopwords)\n",
    "\n",
    "stop_lambda = lambda x: [y for y in x if y not in stopword_list]\n",
    "\n",
    "data_estado_2['empresa'] = data_estado_2.empresa.map(stop_lambda)"
   ]
  },
  {
   "cell_type": "code",
   "execution_count": null,
   "metadata": {},
   "outputs": [],
   "source": [
    "# Criação de lista com os Unigrams\n",
    "#unigram_list = [] \n",
    "#for row in unigram.empresa:\n",
    "#    unigram_list.extend(row)"
   ]
  },
  {
   "cell_type": "code",
   "execution_count": null,
   "metadata": {},
   "outputs": [],
   "source": [
    "# Criação da WordCloud\n",
    "\n",
    "## Criação de lista com os Ngrams\n",
    "labels = np.unique(data_estado_2['estado'])\n",
    "for label in labels:\n",
    "    tokens_list = []\n",
    "    rows = data_estado_2[data_estado_2['estado'] == label]\n",
    "    for row in rows.empresa:\n",
    "        tokens_list.append(row)\n",
    "    ngrams_list = []\n",
    "    for words in tokens_list:\n",
    "        ngrams_list.append(' '.join(words))\n",
    "\n",
    "## Criação de dicionário de frequência das strings\n",
    "    words_freq = {} \n",
    "    for items in ngrams_list: \n",
    "        words_freq[items] = ngrams_list.count(items)\n",
    "\n",
    "## Plotagem da WordCloud       \n",
    "    cloud2 = WordCloud(background_color='black',width=1600,height=800,max_font_size=200,max_words=20).generate_from_frequencies(words_freq)\n",
    "\n",
    "    plt.figure(figsize = (20,10))\n",
    "    plt.imshow(cloud2, interpolation='bilinear')\n",
    "    plt.title('Empresas com mais reclamações em ' + str(label), fontsize=40)\n",
    "    plt.axis('off')\n",
    "    plt.tight_layout(pad=0)\n",
    "    name = str(label)\n",
    "    plt.savefig('estado-' + str(label) + ' ngram.png')\n",
    "    "
   ]
  }
 ],
 "metadata": {
  "anaconda-cloud": {},
  "colab": {
   "collapsed_sections": [],
   "name": "cookiesvf.ipynb",
   "provenance": []
  },
  "kernelspec": {
   "display_name": "Python 3",
   "language": "python",
   "name": "python3"
  },
  "language_info": {
   "codemirror_mode": {
    "name": "ipython",
    "version": 3
   },
   "file_extension": ".py",
   "mimetype": "text/x-python",
   "name": "python",
   "nbconvert_exporter": "python",
   "pygments_lexer": "ipython3",
   "version": "3.8.3-final"
  },
  "toc": {
   "colors": {
    "hover_highlight": "#DAA520",
    "navigate_num": "#000000",
    "navigate_text": "#333333",
    "running_highlight": "#FF0000",
    "selected_highlight": "#FFD700",
    "sidebar_border": "#EEEEEE",
    "wrapper_background": "#FFFFFF"
   },
   "moveMenuLeft": true,
   "nav_menu": {
    "height": "48px",
    "width": "252px"
   },
   "navigate_menu": true,
   "number_sections": true,
   "sideBar": true,
   "threshold": 4,
   "toc_cell": false,
   "toc_section_display": "block",
   "toc_window_display": false,
   "widenNotebook": false
  }
 },
 "nbformat": 4,
 "nbformat_minor": 1
}